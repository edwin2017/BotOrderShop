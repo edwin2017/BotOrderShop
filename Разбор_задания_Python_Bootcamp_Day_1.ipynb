{
  "nbformat": 4,
  "nbformat_minor": 0,
  "metadata": {
    "colab": {
      "provenance": [],
      "include_colab_link": true
    },
    "kernelspec": {
      "name": "python3",
      "display_name": "Python 3"
    },
    "language_info": {
      "name": "python"
    }
  },
  "cells": [
    {
      "cell_type": "markdown",
      "metadata": {
        "id": "view-in-github",
        "colab_type": "text"
      },
      "source": [
        "<a href=\"https://colab.research.google.com/github/edwin2017/BotOrderShop/blob/master/%D0%A0%D0%B0%D0%B7%D0%B1%D0%BE%D1%80_%D0%B7%D0%B0%D0%B4%D0%B0%D0%BD%D0%B8%D1%8F_Python_Bootcamp_Day_1.ipynb\" target=\"_parent\"><img src=\"https://colab.research.google.com/assets/colab-badge.svg\" alt=\"Open In Colab\"/></a>"
      ]
    },
    {
      "cell_type": "markdown",
      "source": [
        "## Задание 1\n",
        "Улучшите функцию приветствия, добавив имя пользователя.\n",
        "\n",
        "**Подсказка 1**\n",
        "\n",
        "В каком атрибуте хранится имя пользователя, можно посмотреть в документации к API Телеграма: https://core.telegram.org/bots/api#message\n",
        "\n",
        "**Подсказка 2**\n",
        "\n",
        "* Имя пользователя хранится в атрибуте `message.chat.first_name` https://core.telegram.org/bots/api#chat\n",
        "* Текст из разных кусочков мы собираем с помощью оператора +: `\"Hello, \" + message.chat.first_name`"
      ],
      "metadata": {
        "id": "eyqHjLg27csD"
      }
    },
    {
      "cell_type": "code",
      "execution_count": null,
      "metadata": {
        "id": "OUY0wD4E6gCa"
      },
      "outputs": [],
      "source": [
        "# Загружаем библиотеки\n",
        "!pip install pyTelegramBotAPI"
      ]
    },
    {
      "cell_type": "code",
      "source": [
        "# Подключаем библиотеку\n",
        "import telebot\n",
        "\n",
        "# Здесь нужно вставить токен, который дал BotFather при регистрации\n",
        "# Пример: token = '2007628239:AAEF4ZVqLiRKG7j49EC4vaRwXjJ6DN6xng8'\n",
        "token = '<ваш токен>'  # <<< Ваш токен\n",
        "\n",
        "# В этой строчке мы заводим бота и даем ему запомнить токен\n",
        "bot = telebot.TeleBot(token)\n",
        "\n",
        "# Пишем первую функцию, которая отвечает \"Привет\" на команду /start\n",
        "# Все функции общения приложения с ТГ спрятаны в функции под @\n",
        "@bot.message_handler(commands=['start'])\n",
        "def say_hi(message):\n",
        "    bot.send_message(message.chat.id, 'Привет, ' + message.chat.first_name)\n",
        "\n",
        "# Запускаем бота. Он будет работать до тех пор, пока работает ячейка (крутится значок слева).\n",
        "# Остановим ячейку - остановится бот\n",
        "bot.polling()"
      ],
      "metadata": {
        "id": "R9GpEfLz8ktL"
      },
      "execution_count": null,
      "outputs": []
    },
    {
      "cell_type": "markdown",
      "source": [
        "## Задание 2"
      ],
      "metadata": {
        "id": "LSHOACH18Y7O"
      }
    },
    {
      "cell_type": "markdown",
      "source": [
        "**Подсказка**\n",
        "\n",
        "* Стикеры отправляются в формате **.webp**\n",
        "* Стикер отправляется с помощью функции `send_sticker`\n",
        "* Пример использования можно посмотреть\n",
        "в описании библиотеки https://github.com/eternnoir/pyTelegramBotAPI"
      ],
      "metadata": {
        "id": "is27YMZ_8elx"
      }
    },
    {
      "cell_type": "code",
      "source": [
        "!pip install pyTelegramBotAPI SpeechRecognition pydub"
      ],
      "metadata": {
        "id": "ZS87bMez-3Eg"
      },
      "execution_count": null,
      "outputs": []
    },
    {
      "cell_type": "code",
      "source": [
        "# Загрузка изображения для демо\n",
        "import urllib\n",
        "\n",
        "url = \"https://drive.google.com/uc?export=view&id=1WDN5RXcYQHiUT4JVujQ2VSwr7p0XLlYX\"\n",
        "filename = \"skillbox_sticker.webp\"\n",
        "urllib.request.urlretrieve(url, filename)"
      ],
      "metadata": {
        "id": "tP93jQ0p8ijN",
        "colab": {
          "base_uri": "https://localhost:8080/"
        },
        "outputId": "6c5cab51-c805-4641-c9ab-4ac899325976"
      },
      "execution_count": null,
      "outputs": [
        {
          "output_type": "execute_result",
          "data": {
            "text/plain": [
              "('skillbox_sticker.webp', <http.client.HTTPMessage at 0x7fcfc42f6be0>)"
            ]
          },
          "metadata": {},
          "execution_count": 21
        }
      ]
    },
    {
      "cell_type": "code",
      "source": [
        "import os\n",
        "import telebot\n",
        "import speech_recognition\n",
        "from pydub import AudioSegment\n",
        "\n",
        "\n",
        "# Ниже нужно вставить токен, который дал BotFather при регистрации\n",
        "# Пример: token = '2007628239:AAEF4ZVqLiRKG7j49EC4vaRwXjJ6DN6xng8'\n",
        "token = '<ваш токен>'  # <<< Ваш токен\n",
        "\n",
        "bot = telebot.TeleBot(token)\n",
        "\n",
        "\n",
        "def oga2wav(filename):\n",
        "    # Конвертация формата файлов\n",
        "    new_filename = filename.replace('.oga', '.wav')\n",
        "    audio = AudioSegment.from_file(filename)\n",
        "    audio.export(new_filename, format='wav')\n",
        "    return new_filename\n",
        "\n",
        "\n",
        "def recognize_speech(oga_filename):\n",
        "    # Перевод голоса в текст + удаление использованных файлов\n",
        "    wav_filename = oga2wav(oga_filename)\n",
        "    recognizer = speech_recognition.Recognizer()\n",
        "\n",
        "    with speech_recognition.WavFile(wav_filename) as source:     \n",
        "        wav_audio = recognizer.record(source)\n",
        "\n",
        "    text = recognizer.recognize_google(wav_audio, language='ru')\n",
        "\n",
        "    if os.path.exists(oga_filename):\n",
        "        os.remove(oga_filename)\n",
        "\n",
        "    if os.path.exists(wav_filename):\n",
        "        os.remove(wav_filename)\n",
        "\n",
        "    return text\n",
        "\n",
        "\n",
        "def download_file(bot, file_id):\n",
        "    # Скачивание файла, который прислал пользователь\n",
        "    file_info = bot.get_file(file_id)\n",
        "    downloaded_file = bot.download_file(file_info.file_path)\n",
        "    filename = file_id + file_info.file_path\n",
        "    filename = filename.replace('/', '_')\n",
        "    with open(filename, 'wb') as f:\n",
        "        f.write(downloaded_file)\n",
        "    return filename\n",
        "\n",
        "\n",
        "@bot.message_handler(commands=['start'])\n",
        "def say_hi(message):\n",
        "    # Функция, отправляющая \"Привет\" в ответ на команду /start\n",
        "    bot.send_message(message.chat.id, 'Привет')\n",
        "    sticker = open('skillbox_sticker.webp', 'rb')\n",
        "    bot.send_sticker(message.chat.id, sticker)\n",
        "    sticker.close()\n",
        "\n",
        "\n",
        "@bot.message_handler(content_types=['voice'])\n",
        "def transcript(message):\n",
        "    # Функция, отправляющая текст в ответ на голосовое\n",
        "    filename = download_file(bot, message.voice.file_id)\n",
        "    text = recognize_speech(filename)\n",
        "    bot.send_message(message.chat.id, text)\n",
        "\n",
        "\n",
        "# Запускаем бота. Он будет работать до тех пор, пока работает ячейка (крутится значок слева).\n",
        "# Остановим ячейку - остановится бот\n",
        "bot.polling()"
      ],
      "metadata": {
        "id": "4dJlmjc4-gUI"
      },
      "execution_count": null,
      "outputs": []
    }
  ]
}