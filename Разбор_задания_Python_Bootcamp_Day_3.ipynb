{
  "nbformat": 4,
  "nbformat_minor": 0,
  "metadata": {
    "colab": {
      "provenance": [],
      "toc_visible": true,
      "include_colab_link": true
    },
    "kernelspec": {
      "name": "python3",
      "display_name": "Python 3"
    },
    "language_info": {
      "name": "python"
    }
  },
  "cells": [
    {
      "cell_type": "markdown",
      "metadata": {
        "id": "view-in-github",
        "colab_type": "text"
      },
      "source": [
        "<a href=\"https://colab.research.google.com/github/edwin2017/BotOrderShop/blob/master/%D0%A0%D0%B0%D0%B7%D0%B1%D0%BE%D1%80_%D0%B7%D0%B0%D0%B4%D0%B0%D0%BD%D0%B8%D1%8F_Python_Bootcamp_Day_3.ipynb\" target=\"_parent\"><img src=\"https://colab.research.google.com/assets/colab-badge.svg\" alt=\"Open In Colab\"/></a>"
      ]
    },
    {
      "cell_type": "markdown",
      "source": [
        "Соберем информацию с сайта https://live.skillbox.ru/playlists/code/python/"
      ],
      "metadata": {
        "id": "v2glTczzhKY_"
      }
    },
    {
      "cell_type": "markdown",
      "source": [
        "# Домашнее задание\n",
        "\n",
        "Улучшите свой парсер, добавив в таблицу данные о длительности видео"
      ],
      "metadata": {
        "id": "hoYecDRhrCXO"
      }
    },
    {
      "cell_type": "markdown",
      "source": [
        "## Подсказка"
      ],
      "metadata": {
        "id": "uvc2knblrNhU"
      }
    },
    {
      "cell_type": "markdown",
      "source": [
        "* Посмотрите в HTML-коде страницы тег, где записана длительность видео\n",
        "* В каждую строку таблицы добавьте новый элемент\n"
      ],
      "metadata": {
        "id": "A50rc59fDqEu"
      }
    },
    {
      "cell_type": "code",
      "source": [
        "import requests\n",
        "\n",
        "web_page = requests.get('https://live.skillbox.ru/playlists/code/python/')"
      ],
      "metadata": {
        "id": "w2xcW4uqzrEX"
      },
      "execution_count": null,
      "outputs": []
    },
    {
      "cell_type": "code",
      "source": [
        "from openpyxl import Workbook\n",
        "from bs4 import BeautifulSoup"
      ],
      "metadata": {
        "id": "WstnU93zOLee"
      },
      "execution_count": null,
      "outputs": []
    },
    {
      "cell_type": "code",
      "source": [
        "soup = BeautifulSoup(web_page.text, 'html.parser')"
      ],
      "metadata": {
        "id": "3vu5LdYcUOFR"
      },
      "execution_count": null,
      "outputs": []
    },
    {
      "cell_type": "code",
      "source": [
        "# soup"
      ],
      "metadata": {
        "id": "s5eTAaeXUh72"
      },
      "execution_count": null,
      "outputs": []
    },
    {
      "cell_type": "markdown",
      "source": [
        "```html\n",
        "<li class=\"playlist-inner__item\">\n",
        " <a class=\"playlist-inner-card hover-card\" href=\"/webinars/code/pishem-interfeis-messendzhera-na-python150323/\">\n",
        "  <div class=\"playlist-inner-card__wrapper hover-card__wrapper playlist-inner-card__wrapper--small\">\n",
        "   <h2 class=\"playlist-inner-card__title hover-card__text playlist-inner-card__title--big\">\n",
        "    Пишем интерфейс мессенджера на Python\n",
        "   </h2>\n",
        "   <div class=\"playlist-inner-card__small-info\">\n",
        "    <svg aria-hidden=\"true\" class=\"playlist-inner-card__play-icon icon sprite-icons\" height=\"14\" width=\"14\" xmlns=\"http://www.w3.org/2000/svg\">\n",
        "     <use href=\"/_nuxt/8b5cc3e789bdebf90529880019a6a5e7.svg#i-play\" xlink:href=\"/_nuxt/8b5cc3e789bdebf90529880019a6a5e7.svg#i-play\">\n",
        "     </use>\n",
        "    </svg>\n",
        "    Видео, 01:09:50\n",
        "   </div>\n",
        "  </div>\n",
        " </a>\n",
        "</li>\n",
        "```\n"
      ],
      "metadata": {
        "id": "gqInQRz2bFb7"
      }
    },
    {
      "cell_type": "code",
      "source": [
        "soup.find(class_='playlist-inner-card__small-info').text"
      ],
      "metadata": {
        "colab": {
          "base_uri": "https://localhost:8080/",
          "height": 35
        },
        "id": "Lsel4S2BFDBQ",
        "outputId": "1b15c7b0-4552-4188-bdc2-f82ed7bfa85e"
      },
      "execution_count": null,
      "outputs": [
        {
          "output_type": "execute_result",
          "data": {
            "text/plain": [
              "'\\n\\n      Видео, 01:09:50\\n    '"
            ],
            "application/vnd.google.colaboratory.intrinsic+json": {
              "type": "string"
            }
          },
          "metadata": {},
          "execution_count": 17
        }
      ]
    },
    {
      "cell_type": "code",
      "source": [
        "soup.find(class_='playlist-inner-card__small-info').text.strip()"
      ],
      "metadata": {
        "colab": {
          "base_uri": "https://localhost:8080/",
          "height": 35
        },
        "id": "XB0A7ZwvFRaF",
        "outputId": "0d88d6db-5210-4338-b1cc-bf2cd905cf4e"
      },
      "execution_count": null,
      "outputs": [
        {
          "output_type": "execute_result",
          "data": {
            "text/plain": [
              "'Видео, 01:09:50'"
            ],
            "application/vnd.google.colaboratory.intrinsic+json": {
              "type": "string"
            }
          },
          "metadata": {},
          "execution_count": 18
        }
      ]
    },
    {
      "cell_type": "code",
      "source": [
        "work_book = Workbook()\n",
        "work_sheet = work_book.active\n",
        "\n",
        "items = soup.find_all(class_='playlist-inner__item')\n",
        "\n",
        "for elem in items:\n",
        "    title = elem.find(class_='playlist-inner-card__title hover-card__text playlist-inner-card__title--big').text\n",
        "    relative_url = elem.find(class_='playlist-inner-card hover-card').attrs['href']\n",
        "    timing = elem.find(class_='playlist-inner-card__small-info').text.strip()\n",
        "    url = 'https://live.skillbox.ru' + relative_url\n",
        "    row = [title, url, timing]\n",
        "    print(row)\n",
        "    work_sheet.append(row)\n",
        "\n",
        "work_book.save('Вебинары про Python от Skillbox.xlsx')"
      ],
      "metadata": {
        "colab": {
          "base_uri": "https://localhost:8080/"
        },
        "id": "25Xes7bKry4h",
        "outputId": "862e74b5-464e-43b2-d143-b9d0635edeba"
      },
      "execution_count": null,
      "outputs": [
        {
          "output_type": "stream",
          "name": "stdout",
          "text": [
            "['Пишем интерфейс мессенджера на Python', 'https://live.skillbox.ru/webinars/code/pishem-interfeis-messendzhera-na-python150323/', 'Видео, 01:09:50']\n",
            "['Настраиваем протокол TCP для мессенджера', 'https://live.skillbox.ru/webinars/code/nastraivaem-protokol-tcp-dlya-messendzhera140323/', 'Видео, 01:18:15']\n",
            "['Знакомимся с Python', 'https://live.skillbox.ru/webinars/code/znakomimsya-s-python130323/', 'Видео, 01:35:25']\n",
            "['Искусственный интеллект на Python: подводим итоги', 'https://live.skillbox.ru/webinars/code/iskusstvennyi-intellekt-na-python-podvodim-itogi211222/', 'Видео, 01:04:56']\n",
            "['Учим бота на Python понимать текст', 'https://live.skillbox.ru/webinars/code/uchim-bota-na-python-ponimat-tekst201222/', 'Видео, 01:53:26']\n",
            "['Знакомимся с Python и архитектурой умного чат-бота', 'https://live.skillbox.ru/webinars/code/znakomimsya-s-python-i-arkhitekturoi-umnogo-chat-bota191222/', 'Видео, 02:10:05']\n",
            "['Хакинг на Python: пишем первое приложение', 'https://live.skillbox.ru/webinars/code/khaking-na-python-pishem-pervoe-prilozhenie170521/', 'Видео, 02:31:45']\n",
            "['Хакинг на Python: подводим итоги', 'https://live.skillbox.ru/webinars/code/khaking-na-python-podvodim-itogi190521/', 'Видео, 02:25:16']\n",
            "['Хакинг на Python: учимся проводить атаки и защищаться от них', 'https://live.skillbox.ru/webinars/code/khaking-na-python-uchimsya-provodit-ataki-i-zashishatsya-ot-nikh180521/', 'Видео, 02:36:21']\n",
            "['Основы backend-разработки: с чего начать?', 'https://live.skillbox.ru/webinars/code/osnovy-backend-razrabotki-s-chego-nachat-2/', 'Видео, 01:57:48']\n",
            "['Создаём приложение для мониторинга объектов на видео', 'https://live.skillbox.ru/webinars/code/sozdayom-prilozhenie-dlya-monitoringa-obektov-na-video161220/', 'Видео, 02:21:49']\n",
            "['Используем нейросети для распознавания объектов на изображении', 'https://live.skillbox.ru/webinars/code/ispolzuem-neiroseti-dlya-raspoznavaniya-obektov-na-izobrazhenii151220/', 'Видео, 03:09:05']\n",
            "['Изучаем основы Python для работы с нейросетями', 'https://live.skillbox.ru/webinars/code/izuchaem-osnovy-python-dlya-raboty-s-neirosetyami141220/', 'Видео, 01:58:50']\n",
            "['Как стать Python-разработчиком?', 'https://live.skillbox.ru/webinars/code/kak-stat-python-razrabotchikom081220/', 'Видео, 02:06:05']\n",
            "['Fullstack-разработчик. Итоги интенсива', 'https://live.skillbox.ru/webinars/code/fullstack-razrabotchik-itogi-intensiva300920/', 'Видео, 01:04:11']\n",
            "['Fullstack-разработчик: Технологии backend-разработки. Фреймворк Symfony и язык PHP', 'https://live.skillbox.ru/webinars/code/fullstack-razrabotchik-tekhnologii-backend-razrabotki-freimvork-symfony-i-yazyk-php290920/', 'Видео, 02:17:24']\n",
            "['Голосовой помощник на Python за час', 'https://live.skillbox.ru/webinars/code/golosovoy-pomoshchnik-na-python-za-chas-1/', 'Видео, 01:52:49']\n"
          ]
        }
      ]
    },
    {
      "cell_type": "markdown",
      "source": [
        "Доп. информация - удаляем слово \"Видео\""
      ],
      "metadata": {
        "id": "uTMNYCDCFlE9"
      }
    },
    {
      "cell_type": "markdown",
      "source": [
        "`.split(\",\")` - разбивает текст по символу (например, запятой)"
      ],
      "metadata": {
        "id": "KGBYHLWjFqjG"
      }
    },
    {
      "cell_type": "code",
      "source": [
        "'Видео, 01:52:49'.split(',')"
      ],
      "metadata": {
        "colab": {
          "base_uri": "https://localhost:8080/"
        },
        "id": "-AurMgTXF1qK",
        "outputId": "9f4d55ac-3e7e-4f00-a785-c92be37bcbb8"
      },
      "execution_count": null,
      "outputs": [
        {
          "output_type": "execute_result",
          "data": {
            "text/plain": [
              "['Видео', ' 01:52:49']"
            ]
          },
          "metadata": {},
          "execution_count": 20
        }
      ]
    },
    {
      "cell_type": "code",
      "source": [
        "'Видео, 01:52:49'.split(',')[-1] # [-1] - первый элемент с конца списка"
      ],
      "metadata": {
        "colab": {
          "base_uri": "https://localhost:8080/",
          "height": 35
        },
        "id": "WmLjYHOmGIU-",
        "outputId": "f97b481a-f1d1-41ed-967a-621a29118446"
      },
      "execution_count": null,
      "outputs": [
        {
          "output_type": "execute_result",
          "data": {
            "text/plain": [
              "' 01:52:49'"
            ],
            "application/vnd.google.colaboratory.intrinsic+json": {
              "type": "string"
            }
          },
          "metadata": {},
          "execution_count": 21
        }
      ]
    },
    {
      "cell_type": "code",
      "source": [
        "'Видео, 01:52:49'.split(',')[-1].strip()"
      ],
      "metadata": {
        "colab": {
          "base_uri": "https://localhost:8080/",
          "height": 35
        },
        "id": "UtK4TKr6GPym",
        "outputId": "55f878ec-6c2c-463a-b1ed-42d3c0dc8496"
      },
      "execution_count": null,
      "outputs": [
        {
          "output_type": "execute_result",
          "data": {
            "text/plain": [
              "'01:52:49'"
            ],
            "application/vnd.google.colaboratory.intrinsic+json": {
              "type": "string"
            }
          },
          "metadata": {},
          "execution_count": 22
        }
      ]
    },
    {
      "cell_type": "code",
      "source": [
        "work_book = Workbook()\n",
        "work_sheet = work_book.active\n",
        "\n",
        "items = soup.find_all(class_='playlist-inner__item')\n",
        "\n",
        "for elem in items:\n",
        "    title = elem.find(class_='playlist-inner-card__title hover-card__text playlist-inner-card__title--big').text\n",
        "    relative_url = elem.find(class_='playlist-inner-card hover-card').attrs['href']\n",
        "    timing = elem.find(class_='playlist-inner-card__small-info').text.strip().split(',')[-1].strip()\n",
        "    url = 'https://live.skillbox.ru' + relative_url\n",
        "    row = [title, url, timing]\n",
        "    print(row)\n",
        "    work_sheet.append(row)\n",
        "\n",
        "work_book.save('Вебинары про Python от Skillbox.xlsx')"
      ],
      "metadata": {
        "colab": {
          "base_uri": "https://localhost:8080/"
        },
        "id": "i1B2st4WGV5X",
        "outputId": "cf13d2e9-9ce6-4a78-fb3b-c4feab85a38b"
      },
      "execution_count": null,
      "outputs": [
        {
          "output_type": "stream",
          "name": "stdout",
          "text": [
            "['Пишем интерфейс мессенджера на Python', 'https://live.skillbox.ru/webinars/code/pishem-interfeis-messendzhera-na-python150323/', '01:09:50']\n",
            "['Настраиваем протокол TCP для мессенджера', 'https://live.skillbox.ru/webinars/code/nastraivaem-protokol-tcp-dlya-messendzhera140323/', '01:18:15']\n",
            "['Знакомимся с Python', 'https://live.skillbox.ru/webinars/code/znakomimsya-s-python130323/', '01:35:25']\n",
            "['Искусственный интеллект на Python: подводим итоги', 'https://live.skillbox.ru/webinars/code/iskusstvennyi-intellekt-na-python-podvodim-itogi211222/', '01:04:56']\n",
            "['Учим бота на Python понимать текст', 'https://live.skillbox.ru/webinars/code/uchim-bota-na-python-ponimat-tekst201222/', '01:53:26']\n",
            "['Знакомимся с Python и архитектурой умного чат-бота', 'https://live.skillbox.ru/webinars/code/znakomimsya-s-python-i-arkhitekturoi-umnogo-chat-bota191222/', '02:10:05']\n",
            "['Хакинг на Python: пишем первое приложение', 'https://live.skillbox.ru/webinars/code/khaking-na-python-pishem-pervoe-prilozhenie170521/', '02:31:45']\n",
            "['Хакинг на Python: подводим итоги', 'https://live.skillbox.ru/webinars/code/khaking-na-python-podvodim-itogi190521/', '02:25:16']\n",
            "['Хакинг на Python: учимся проводить атаки и защищаться от них', 'https://live.skillbox.ru/webinars/code/khaking-na-python-uchimsya-provodit-ataki-i-zashishatsya-ot-nikh180521/', '02:36:21']\n",
            "['Основы backend-разработки: с чего начать?', 'https://live.skillbox.ru/webinars/code/osnovy-backend-razrabotki-s-chego-nachat-2/', '01:57:48']\n",
            "['Создаём приложение для мониторинга объектов на видео', 'https://live.skillbox.ru/webinars/code/sozdayom-prilozhenie-dlya-monitoringa-obektov-na-video161220/', '02:21:49']\n",
            "['Используем нейросети для распознавания объектов на изображении', 'https://live.skillbox.ru/webinars/code/ispolzuem-neiroseti-dlya-raspoznavaniya-obektov-na-izobrazhenii151220/', '03:09:05']\n",
            "['Изучаем основы Python для работы с нейросетями', 'https://live.skillbox.ru/webinars/code/izuchaem-osnovy-python-dlya-raboty-s-neirosetyami141220/', '01:58:50']\n",
            "['Как стать Python-разработчиком?', 'https://live.skillbox.ru/webinars/code/kak-stat-python-razrabotchikom081220/', '02:06:05']\n",
            "['Fullstack-разработчик. Итоги интенсива', 'https://live.skillbox.ru/webinars/code/fullstack-razrabotchik-itogi-intensiva300920/', '01:04:11']\n",
            "['Fullstack-разработчик: Технологии backend-разработки. Фреймворк Symfony и язык PHP', 'https://live.skillbox.ru/webinars/code/fullstack-razrabotchik-tekhnologii-backend-razrabotki-freimvork-symfony-i-yazyk-php290920/', '02:17:24']\n",
            "['Голосовой помощник на Python за час', 'https://live.skillbox.ru/webinars/code/golosovoy-pomoshchnik-na-python-za-chas-1/', '01:52:49']\n"
          ]
        }
      ]
    }
  ]
}